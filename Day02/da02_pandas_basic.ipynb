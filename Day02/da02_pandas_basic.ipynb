{
 "cells": [
  {
   "cell_type": "markdown",
   "metadata": {},
   "source": [
    "### Pandas DataFrame\n",
    "\n",
    "판다스에서 데이터(테이블 형태 - DB, 엑셀, csv, JSON) 처리하는 가장 기본단위 자료구조\n",
    "\n",
    "<img src = \"https://img1.daumcdn.net/thumb/R1280x0/?scode=mtistory2&fname=https%3A%2F%2Ft1.daumcdn.net%2Fcfile%2Ftistory%2F99FD8D385BFBECE32D\" width = \"500\">\n",
    "\n",
    "데이터프레임 생성\n",
    "\n",
    "pd.DataFrame(...)"
   ]
  },
  {
   "cell_type": "code",
   "execution_count": 2,
   "metadata": {},
   "outputs": [],
   "source": [
    "import pandas as pd"
   ]
  },
  {
   "cell_type": "code",
   "execution_count": null,
   "metadata": {},
   "outputs": [],
   "source": [
    "# 데이터 프레임 생성\n",
    "data = {\n",
    "    '이름' : ['홍길동', '홍길순', '성유고', '박애슐'],\n",
    "    '국어' : [80,100,10,90],\n",
    "    '영어' : [50,100,99,100],\n",
    "    '수학' : [90, 100, 10, 40],\n",
    "    '미술' : [100, 100, 99, 30]\n",
    "} # 기본데이터는 실제로는 excel, db, csv, openAPI 등 다른곳에서 받아와서 처리\n",
    "\n",
    "df1 = pd.DataFrame\n"
   ]
  }
 ],
 "metadata": {
  "kernelspec": {
   "display_name": "Python 3",
   "language": "python",
   "name": "python3"
  },
  "language_info": {
   "codemirror_mode": {
    "name": "ipython",
    "version": 3
   },
   "file_extension": ".py",
   "mimetype": "text/x-python",
   "name": "python",
   "nbconvert_exporter": "python",
   "pygments_lexer": "ipython3",
   "version": "3.11.2"
  },
  "orig_nbformat": 4
 },
 "nbformat": 4,
 "nbformat_minor": 2
}
