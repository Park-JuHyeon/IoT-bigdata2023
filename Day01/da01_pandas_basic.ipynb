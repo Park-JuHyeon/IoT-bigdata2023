{
 "cells": [
  {
   "cell_type": "markdown",
   "metadata": {},
   "source": [
    "### Pandas 기초\n",
    "\n",
    "### 가상환경 설치\n",
    "\n",
    "Virtualenv 모듈 설치\n",
    "\n",
    "```\n",
    "> !pip install virtualenv\n",
    "```\n",
    "\n",
    "## Pandas?"
   ]
  },
  {
   "cell_type": "code",
   "execution_count": 4,
   "metadata": {},
   "outputs": [
    {
     "name": "stdout",
     "output_type": "stream",
     "text": [
      "Requirement already satisfied: virtualenv in c:\\dev\\langs\\python311\\lib\\site-packages (20.17.1)\n",
      "Requirement already satisfied: distlib<1,>=0.3.6 in c:\\dev\\langs\\python311\\lib\\site-packages (from virtualenv) (0.3.6)\n",
      "Requirement already satisfied: filelock<4,>=3.4.1 in c:\\dev\\langs\\python311\\lib\\site-packages (from virtualenv) (3.9.0)\n",
      "Requirement already satisfied: platformdirs<3,>=2.4 in c:\\dev\\langs\\python311\\lib\\site-packages (from virtualenv) (2.6.2)\n"
     ]
    },
    {
     "name": "stderr",
     "output_type": "stream",
     "text": [
      "\n",
      "[notice] A new release of pip is available: 23.0.1 -> 23.2.1\n",
      "[notice] To update, run: python.exe -m pip install --upgrade pip\n"
     ]
    }
   ],
   "source": [
    "!pip install virtualenv"
   ]
  },
  {
   "cell_type": "markdown",
   "metadata": {},
   "source": [
    "#### 가상환경 설정\n",
    "\n",
    "```\n",
    "> Virtualenv da_env\n",
    "```"
   ]
  }
 ],
 "metadata": {
  "kernelspec": {
   "display_name": "Python 3",
   "language": "python",
   "name": "python3"
  },
  "language_info": {
   "codemirror_mode": {
    "name": "ipython",
    "version": 3
   },
   "file_extension": ".py",
   "mimetype": "text/x-python",
   "name": "python",
   "nbconvert_exporter": "python",
   "pygments_lexer": "ipython3",
   "version": "3.11.2"
  },
  "orig_nbformat": 4
 },
 "nbformat": 4,
 "nbformat_minor": 2
}
