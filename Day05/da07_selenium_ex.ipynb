{
 "cells": [
  {
   "cell_type": "markdown",
   "metadata": {},
   "source": [
    "### 셀레니움 사용법\n",
    "\n",
    "- 셀레니움, 크롬기반(웹브라우저) 자동으로 데이터를 가져올 수 있는 라이브러리\n",
    "- RPA(Robot Processing Automation), 업무자동화\n",
    "    - 예) 퇴근전 네이버 쇼핑 회사제품 판매 현황 자동화를 걸어놓고 다음날 아침 엑셀에 만여개 데이터 수집완료"
   ]
  },
  {
   "cell_type": "markdown",
   "metadata": {},
   "source": [
    "#### 셀리니움 모듈 설치방법\n",
    "\n",
    "- 셀레니움 모듈 설치\n",
    "- 크롬 드라이버 설치\n",
    "\n",
    "```python\n",
    "!pip install selenium\n",
    "```"
   ]
  },
  {
   "cell_type": "code",
   "execution_count": 1,
   "metadata": {},
   "outputs": [
    {
     "name": "stdout",
     "output_type": "stream",
     "text": [
      "Collecting selenium\n",
      "  Downloading selenium-4.11.2-py3-none-any.whl (7.2 MB)\n",
      "     ---------------------------------------- 0.0/7.2 MB ? eta -:--:--\n",
      "     -- ------------------------------------- 0.4/7.2 MB 9.2 MB/s eta 0:00:01\n",
      "     ----- ---------------------------------- 1.1/7.2 MB 11.3 MB/s eta 0:00:01\n",
      "     ---------- ----------------------------- 1.9/7.2 MB 13.5 MB/s eta 0:00:01\n",
      "     ---------------- ----------------------- 3.0/7.2 MB 16.2 MB/s eta 0:00:01\n",
      "     ------------------------- -------------- 4.6/7.2 MB 19.5 MB/s eta 0:00:01\n",
      "     ------------------------------------- -- 6.7/7.2 MB 23.8 MB/s eta 0:00:01\n",
      "     ---------------------------------------- 7.2/7.2 MB 23.0 MB/s eta 0:00:00\n",
      "Requirement already satisfied: urllib3[socks]<3,>=1.26 in c:\\dev\\langs\\python311\\lib\\site-packages (from selenium) (1.26.15)\n",
      "Collecting trio~=0.17\n",
      "  Downloading trio-0.22.2-py3-none-any.whl (400 kB)\n",
      "     ---------------------------------------- 0.0/400.2 kB ? eta -:--:--\n",
      "     ---------------------------------------- 400.2/400.2 kB ? eta 0:00:00\n",
      "Collecting trio-websocket~=0.9\n",
      "  Downloading trio_websocket-0.10.3-py3-none-any.whl (17 kB)\n",
      "Requirement already satisfied: certifi>=2021.10.8 in c:\\dev\\langs\\python311\\lib\\site-packages (from selenium) (2022.12.7)\n",
      "Collecting attrs>=20.1.0\n",
      "  Downloading attrs-23.1.0-py3-none-any.whl (61 kB)\n",
      "     ---------------------------------------- 0.0/61.2 kB ? eta -:--:--\n",
      "     ---------------------------------------- 61.2/61.2 kB 3.2 MB/s eta 0:00:00\n",
      "Collecting sortedcontainers\n",
      "  Downloading sortedcontainers-2.4.0-py2.py3-none-any.whl (29 kB)\n",
      "Requirement already satisfied: idna in c:\\dev\\langs\\python311\\lib\\site-packages (from trio~=0.17->selenium) (3.4)\n",
      "Collecting outcome\n",
      "  Downloading outcome-1.2.0-py2.py3-none-any.whl (9.7 kB)\n",
      "Collecting sniffio\n",
      "  Downloading sniffio-1.3.0-py3-none-any.whl (10 kB)\n",
      "Collecting cffi>=1.14\n",
      "  Downloading cffi-1.15.1-cp311-cp311-win_amd64.whl (179 kB)\n",
      "     ---------------------------------------- 0.0/179.0 kB ? eta -:--:--\n",
      "     ---------------------------------------- 179.0/179.0 kB ? eta 0:00:00\n",
      "Collecting exceptiongroup\n",
      "  Downloading exceptiongroup-1.1.3-py3-none-any.whl (14 kB)\n",
      "Collecting wsproto>=0.14\n",
      "  Downloading wsproto-1.2.0-py3-none-any.whl (24 kB)\n",
      "Collecting PySocks!=1.5.7,<2.0,>=1.5.6\n",
      "  Downloading PySocks-1.7.1-py3-none-any.whl (16 kB)\n",
      "Collecting pycparser\n",
      "  Downloading pycparser-2.21-py2.py3-none-any.whl (118 kB)\n",
      "     ---------------------------------------- 0.0/118.7 kB ? eta -:--:--\n",
      "     ---------------------------------------- 118.7/118.7 kB ? eta 0:00:00\n",
      "Collecting h11<1,>=0.9.0\n",
      "  Downloading h11-0.14.0-py3-none-any.whl (58 kB)\n",
      "     ---------------------------------------- 0.0/58.3 kB ? eta -:--:--\n",
      "     ---------------------------------------- 58.3/58.3 kB ? eta 0:00:00\n",
      "Installing collected packages: sortedcontainers, sniffio, PySocks, pycparser, h11, exceptiongroup, attrs, wsproto, outcome, cffi, trio, trio-websocket, selenium\n",
      "Successfully installed PySocks-1.7.1 attrs-23.1.0 cffi-1.15.1 exceptiongroup-1.1.3 h11-0.14.0 outcome-1.2.0 pycparser-2.21 selenium-4.11.2 sniffio-1.3.0 sortedcontainers-2.4.0 trio-0.22.2 trio-websocket-0.10.3 wsproto-1.2.0\n"
     ]
    },
    {
     "name": "stderr",
     "output_type": "stream",
     "text": [
      "\n",
      "[notice] A new release of pip is available: 23.0.1 -> 23.2.1\n",
      "[notice] To update, run: python.exe -m pip install --upgrade pip\n"
     ]
    }
   ],
   "source": [
    "!pip install selenium"
   ]
  },
  {
   "cell_type": "code",
   "execution_count": 2,
   "metadata": {},
   "outputs": [],
   "source": [
    "# 모듈 임포트\n",
    "from selenium import webdriver"
   ]
  },
  {
   "cell_type": "markdown",
   "metadata": {},
   "source": [
    "#### Chromedriver 설치\n",
    "\n",
    "- 자신의 크롬브라우저 버전이랑 일치 또는 상위버전\n",
    "    - 크롬 > 설정 > Chrome정보 (현재 116.0.5845.x)\n",
    "\n",
    "- 설정\n"
   ]
  }
 ],
 "metadata": {
  "kernelspec": {
   "display_name": "Python 3",
   "language": "python",
   "name": "python3"
  },
  "language_info": {
   "codemirror_mode": {
    "name": "ipython",
    "version": 3
   },
   "file_extension": ".py",
   "mimetype": "text/x-python",
   "name": "python",
   "nbconvert_exporter": "python",
   "pygments_lexer": "ipython3",
   "version": "3.11.2"
  },
  "orig_nbformat": 4
 },
 "nbformat": 4,
 "nbformat_minor": 2
}
